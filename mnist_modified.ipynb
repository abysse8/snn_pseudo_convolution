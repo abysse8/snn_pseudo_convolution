{
 "cells": [
  {
   "cell_type": "code",
   "execution_count": 203,
   "id": "d61ca3de",
   "metadata": {},
   "outputs": [],
   "source": [
    "from bindsnet.network import Network\n",
    "from bindsnet.network.nodes import LIFNodes\n",
    "from bindsnet.network.nodes import Input\n",
    "from bindsnet.network.topology import Connection\n",
    "from bindsnet.network.monitors import Monitor\n",
    "from bindsnet.network.monitors import NetworkMonitor\n",
    "from bindsnet.analysis.plotting import plot_spikes, plot_voltages\n",
    "import torch\n",
    "import matplotlib.pyplot as plt\n",
    "from torch import bernoulli, ones, randn\n",
    "from time import time\n",
    "from tqdm import tqdm\n",
    "\n",
    "from bindsnet.datasets import MNIST\n",
    "from bindsnet.encoding import PoissonEncoder\n",
    "from torchvision import transforms\n",
    "import os\n",
    "\n",
    "from bindsnet.analysis.plotting import (\n",
    "    plot_input,\n",
    "    plot_spikes,\n",
    "    plot_voltages,\n",
    "    plot_weights,\n",
    ")\n",
    "#!echo \"./data/MNIST\" >> ./.gitignore ### run once only"
   ]
  },
  {
   "cell_type": "code",
   "execution_count": 131,
   "id": "98868f01",
   "metadata": {},
   "outputs": [],
   "source": [
    "total_timesteps = 500\n",
    "dt = 1\n",
    "num_epochs = 1\n",
    "progress_interval = 10\n",
    "update_interval = 250\n",
    "\n",
    "intensity = 128\n",
    "\n",
    "image_shape = (32, 32)\n",
    "dendrite_field_shape = image_shape\n",
    "num_dendrite_layers = 2\n",
    "dendrite_span = 5 #in pixels\n",
    "\n",
    "seed = 8\n",
    "batch_size = 1\n",
    "\n",
    "\n",
    "torch.manual_seed(seed)\n",
    "network = Network(dt=dt, learning=True, batch_size=1, reward_fn=None)"
   ]
  },
  {
   "cell_type": "markdown",
   "id": "09dae32c",
   "metadata": {},
   "source": [
    "### In this setup, the physical weights between neurons don't change in the short term, only the dendritic feedback stimulation. Hence we first connect the network randomly.\n",
    "\n",
    "# Version 1: Feedback dendrites have unlimited span but make relatively sparse connections"
   ]
  },
  {
   "cell_type": "code",
   "execution_count": 126,
   "id": "274f7d9b",
   "metadata": {
    "scrolled": true
   },
   "outputs": [
    {
     "name": "stdout",
     "output_type": "stream",
     "text": [
      "Topology with visual input, light-sensitive neurons, feedback paths:\n",
      "Network(\n",
      "  (simulated input): Input()\n",
      "  (light-receptive neurons): LIFNodes()\n",
      "  (simulated input_to_light-receptive neurons): Connection(\n",
      "    (source): Input()\n",
      "    (target): LIFNodes()\n",
      "  )\n",
      "  (feedback 0): LIFNodes()\n",
      "  (feedback 0_to_light-receptive neurons): Connection(\n",
      "    (source): LIFNodes()\n",
      "    (target): LIFNodes()\n",
      "  )\n",
      "  (feedback 1): LIFNodes()\n",
      "  (feedback 1_to_light-receptive neurons): Connection(\n",
      "    (source): LIFNodes()\n",
      "    (target): LIFNodes()\n",
      "  )\n",
      ")\n"
     ]
    }
   ],
   "source": [
    "connection_prob = 0.3 #probability of any given feedback neuron\n",
    "                      #connecting to any given sensory neuron\n",
    "\n",
    "input_layer = Input(n=32*32, shape=image_shape, traces=True)\n",
    "sensory_layer = LIFNodes(n=32*32, shape=image_shape, traces=True)\n",
    "\n",
    "input_sensory_connection = Connection(\n",
    "                source=input_layer,\n",
    "                target=sensory_layer,\n",
    "                w = torch.ones((input_layer.n, sensory_layer.n)))\n",
    "\n",
    "network.add_layer(input_layer, 'simulated input')\n",
    "network.add_layer(sensory_layer, 'light-receptive neurons')\n",
    "network.add_connection(input_sensory_connection,\n",
    "                       source='simulated input',\n",
    "                       target='light-receptive neurons')\n",
    "\n",
    "\n",
    "dendrite_layers_container = []\n",
    "dendrite_connections_container = []\n",
    "\n",
    "dfs = dendrite_field_shape\n",
    "\n",
    "for iii in range(num_dendrite_layers):\n",
    "    dendrite_layers_container.append(LIFNodes(n=32*32, shape=dfs,\n",
    "                                    traces=True))\n",
    "    network.add_layer(dendrite_layers_container[iii], f\"feedback {iii}\")\n",
    "    \n",
    "    \n",
    "    weights = bernoulli(connection_prob*ones(dfs))*randn(dfs)\n",
    "    \n",
    "    dendrite_connections_container.append(Connection(\n",
    "                            source=dendrite_layers_container[iii],\n",
    "                            target=sensory_layer,\n",
    "                            w = weights ))\n",
    "    network.add_connection(dendrite_connections_container[iii],\n",
    "                           source=f\"feedback {iii}\",\n",
    "                           target='light-receptive neurons')\n",
    "    \n",
    "print(\"Topology with visual input, light-sensitive neurons, feedback paths:\")\n",
    "print(network)"
   ]
  },
  {
   "cell_type": "code",
   "execution_count": 127,
   "id": "9ffe5de4",
   "metadata": {
    "scrolled": true
   },
   "outputs": [
    {
     "data": {
      "text/plain": [
       "Network(\n",
       "  (simulated input): Input()\n",
       "  (light-receptive neurons): LIFNodes()\n",
       "  (simulated input_to_light-receptive neurons): Connection(\n",
       "    (source): Input()\n",
       "    (target): LIFNodes()\n",
       "  )\n",
       "  (feedback 0): LIFNodes()\n",
       "  (feedback 0_to_light-receptive neurons): Connection(\n",
       "    (source): LIFNodes()\n",
       "    (target): LIFNodes()\n",
       "  )\n",
       "  (feedback 1): LIFNodes()\n",
       "  (feedback 1_to_light-receptive neurons): Connection(\n",
       "    (source): LIFNodes()\n",
       "    (target): LIFNodes()\n",
       "  )\n",
       "  (brain self-stim_to_dendrites 0): Connection(\n",
       "    (source): Input()\n",
       "    (target): LIFNodes()\n",
       "  )\n",
       "  (brain self-stim_to_dendrites 1): Connection(\n",
       "    (source): Input()\n",
       "    (target): LIFNodes()\n",
       "  )\n",
       ")"
      ]
     },
     "execution_count": 127,
     "metadata": {},
     "output_type": "execute_result"
    }
   ],
   "source": [
    "stim_layer = Input(shape=dendrite_field_shape, traces=True)\n",
    "\n",
    "stim_dendrite_connections_container = []\n",
    "\n",
    "for jjj in range(num_dendrite_layers):\n",
    "    stim_dendrite_connections_container.append(Connection(\n",
    "                            source=stim_layer,\n",
    "                            target=dendrite_layers_container[jjj]))\n",
    "    \n",
    "    network.add_connection(stim_dendrite_connections_container[jjj],\n",
    "                           source= 'brain self-stim',\n",
    "                           target= f\"dendrites {jjj}\")\n",
    "network"
   ]
  },
  {
   "cell_type": "markdown",
   "id": "5e83a98e",
   "metadata": {},
   "source": [
    "### Visualizing data with no feedback convolution"
   ]
  },
  {
   "cell_type": "code",
   "execution_count": 128,
   "id": "971487c2",
   "metadata": {
    "scrolled": true
   },
   "outputs": [],
   "source": [
    "train_dataset = MNIST(PoissonEncoder(time=total_timesteps, dt=dt),\n",
    "                      None,\n",
    "                      root = os.path.join(\".\", \"data\", \"MNIST\"),\n",
    "                      download=True,\n",
    "                      train=True,\n",
    "                      transform = transforms.Compose(\n",
    "                                  [transforms.Resize((32, 32)),\n",
    "                                   transforms.ToTensor(),\n",
    "                                   transforms.Lambda(lambda x: x*intensity)])\n",
    "                     )"
   ]
  },
  {
   "cell_type": "code",
   "execution_count": 129,
   "id": "8dfe7e31",
   "metadata": {
    "scrolled": false
   },
   "outputs": [
    {
     "data": {
      "text/plain": [
       "{'feedback 1 spikes': <bindsnet.network.monitors.Monitor at 0x7f9b656d2fe0>,\n",
       " 'simulated input spikes': <bindsnet.network.monitors.Monitor at 0x7f9b656d2f50>,\n",
       " 'light-receptive neurons spikes': <bindsnet.network.monitors.Monitor at 0x7f9b656d31f0>,\n",
       " 'feedback 0 spikes': <bindsnet.network.monitors.Monitor at 0x7f9b65770d60>,\n",
       " 'feedback 1 voltages': <bindsnet.network.monitors.Monitor at 0x7f9b6616f310>,\n",
       " 'light-receptive neurons voltages': <bindsnet.network.monitors.Monitor at 0x7f9b656d3370>,\n",
       " 'feedback 0 voltages': <bindsnet.network.monitors.Monitor at 0x7f9b65770430>}"
      ]
     },
     "execution_count": 129,
     "metadata": {},
     "output_type": "execute_result"
    }
   ],
   "source": [
    "spikes = { }\n",
    "for layer in set(network.layers):\n",
    "    spikes[layer] = Monitor(network.layers[layer],\n",
    "                           state_vars = [\"s\"],\n",
    "                           time = total_timesteps)\n",
    "    network.add_monitor(spikes[layer], name = f\"{layer} spikes\")\n",
    "\n",
    "voltages = { }\n",
    "for layer in set(network.layers)-{\"simulated input\",'brain self-stim'}:\n",
    "    voltages[layer] = Monitor(network.layers[layer],\n",
    "                              state_vars = [\"v\"],\n",
    "                              time=total_timesteps)\n",
    "    network.add_monitor(voltages[layer], name = f\"{layer} voltages\")\n",
    "network.monitors"
   ]
  },
  {
   "cell_type": "code",
   "execution_count": 212,
   "id": "934b5ab9",
   "metadata": {},
   "outputs": [
    {
     "data": {
      "text/plain": [
       "tensor([[0, 0, 0,  ..., 0, 0, 0],\n",
       "        [0, 0, 0,  ..., 0, 0, 0],\n",
       "        [0, 0, 0,  ..., 0, 0, 0],\n",
       "        ...,\n",
       "        [0, 0, 0,  ..., 0, 0, 0],\n",
       "        [0, 0, 0,  ..., 0, 0, 0],\n",
       "        [0, 0, 0,  ..., 0, 0, 0]], dtype=torch.uint8)"
      ]
     },
     "execution_count": 212,
     "metadata": {},
     "output_type": "execute_result"
    }
   ],
   "source": [
    "start = time()\n",
    "training_pairs=[]\n",
    "\n",
    "train_dataloader = torch.utils.data.DataLoader(\n",
    "                        train_dataset,\n",
    "                        batch_size=batch_size,\n",
    "                        shuffle=True,)\n",
    "\n",
    "datapoint = next(iter(train_dataloader))\n",
    "datum = datapoint[\"encoded_image\"].view(int( total_timesteps / dt),\n",
    "                                             1, 1, 32, 32)\n",
    "label = datapoint[\"label\"]\n",
    "\n",
    "network.run(inputs={\"simulated input\": datum}, time=total_timesteps)\n",
    "\n",
    "training_pairs.append([spikes[\"light-receptive neurons\"].get(\"s\").sum(0),\n",
    "                       label])\n",
    "\n",
    "training_pairs\n",
    "spikes[\"simulated input\"].get('s')\n",
    "datum.view(int(total_timesteps / dt), dim)"
   ]
  },
  {
   "cell_type": "code",
   "execution_count": 216,
   "id": "08a3e009",
   "metadata": {},
   "outputs": [
    {
     "data": {
      "image/png": "[encoded data removed]",
      "text/plain": [
       "<Figure size 800x400 with 2 Axes>"
      ]
     },
     "metadata": {},
     "output_type": "display_data"
    }
   ],
   "source": [
    "dim = image_shape[0]*image_shape[1]\n",
    "inpt_axes, inpt_ims = plot_input(\n",
    "            datapoint[\"image\"].view(image_shape),\n",
    "            datum.view(int(total_timesteps / dt), dim).sum(0).view(image_shape),\n",
    "        )"
   ]
  },
  {
   "cell_type": "code",
   "execution_count": 114,
   "id": "12eb48dc",
   "metadata": {
    "scrolled": true
   },
   "outputs": [
    {
     "name": "stdout",
     "output_type": "stream",
     "text": [
      "Progress: 0 / 1 (0.00024271011352539062)\n"
     ]
    }
   ],
   "source": [
    "start = time()\n",
    "\n",
    "train_dataloader = torch.utils.data.DataLoader(\n",
    "                        train_dataset,\n",
    "                        batch_size=batch_size,\n",
    "                        shuffle=True)\n",
    "\n",
    "im_input, classes = next(iter(dataloader()))\n",
    "sim_input = {\"simulated_input\": im_input}\n",
    "\n",
    "network.run(inputs, time=total_)\n",
    "\n",
    "    for iii, batch in enumerate(tqdm(train_dataloader)):\n",
    "        if step > n_train:\n",
    "            break\n",
    "        inputs = {\"simulated input\": batch[\"encoded_image\"].view(time,\n",
    "                                                                batch_size\n",
    "                                                                1, 28, 28)}\n",
    "        if step % update_interval == 0 and step ~= 0:\n",
    "            label_vector = torch.tensor(labels, device=device)\n",
    "            \n",
    "        all_activity_pred = all_activity(spikes=spike_record,\n",
    "                                        assignments=assignments)\n",
    "            \n",
    "            \n",
    "    "
   ]
  },
  {
   "cell_type": "markdown",
   "id": "4878cd6a",
   "metadata": {},
   "source": [
    "# Version 2: Feedback dendrites have spatially limited spans, relatively sparse connections"
   ]
  },
  {
   "cell_type": "markdown",
   "id": "f4c188a3",
   "metadata": {},
   "source": [
    "# Version 3: Feedback dendrites have unlimited span and connect to all"
   ]
  },
  {
   "cell_type": "code",
   "execution_count": null,
   "id": "b2c6b791",
   "metadata": {},
   "outputs": [],
   "source": []
  }
 ],
 "metadata": {
  "kernelspec": {
   "display_name": "Python 3 (ipykernel)",
   "language": "python",
   "name": "python3"
  },
  "language_info": {
   "codemirror_mode": {
    "name": "ipython",
    "version": 3
   },
   "file_extension": ".py",
   "mimetype": "text/x-python",
   "name": "python",
   "nbconvert_exporter": "python",
   "pygments_lexer": "ipython3",
   "version": "3.10.6"
  }
 },
 "nbformat": 4,
 "nbformat_minor": 5
}
