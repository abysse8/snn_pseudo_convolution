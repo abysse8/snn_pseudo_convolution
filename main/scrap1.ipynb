{
 "cells": [
  {
   "cell_type": "code",
   "execution_count": 8,
   "id": "c1f5846a",
   "metadata": {},
   "outputs": [
    {
     "name": "stdout",
     "output_type": "stream",
     "text": [
      "Running on Device =  cuda\n"
     ]
    }
   ],
   "source": [
    "from bindsnet.network import Network\n",
    "from bindsnet.network.nodes import Input, LIFNodes\n",
    "from bindsnet.network.topology import Connection\n",
    "from bindsnet.network.monitors import Monitor\n",
    "from bindsnet.analysis.plotting import plot_spikes, plot_voltages\n",
    "from bindsnet.learning import PostPre\n",
    "from bindsnet.analysis.plotting import (\n",
    "    plot_assignments,\n",
    "    plot_input,\n",
    "    plot_performance,\n",
    "    plot_spikes,\n",
    "    plot_voltages,\n",
    "    plot_weights,\n",
    ")\n",
    "from bindsnet.datasets import MNIST\n",
    "from bindsnet.encoding import PoissonEncoder\n",
    "from bindsnet.evaluation import all_activity, assign_labels, proportion_weighting\n",
    "from bindsnet.models import DiehlAndCook2015\n",
    "from bindsnet.network.monitors import Monitor\n",
    "from bindsnet.utils import get_square_assignments, get_square_weights\n",
    "\n",
    "import matplotlib.pyplot as plt\n",
    "from tqdm import tqdm\n",
    "from time import time as t\n",
    "import os\n",
    "import csv\n",
    "import numpy as np\n",
    "\n",
    "import torch\n",
    "from torchvision import transforms\n",
    "\n",
    "n_workers=-1\n",
    "train=True\n",
    "intensity = 128\n",
    "update_interval = 500\n",
    "n_test = 10_000\n",
    "n_train = 60_000\n",
    "dt=1.0\n",
    "n_epochs = 10\n",
    "progress_interval = 10\n",
    "\n",
    "inpt_ims, inpt_axes = None, None\n",
    "spike_ims, spike_axes = None, None\n",
    "weights_im = None\n",
    "assigns_im = None\n",
    "perf_ax = None\n",
    "voltage_axes, voltage_ims = None, None\n",
    "\n",
    "\n",
    "time = 500\n",
    "network = Network()\n",
    "shape = 28,28\n",
    "dim = shape[0]*shape[1]\n",
    "w_min = 0\n",
    "w_max = 1.0\n",
    "\n",
    "plot=False\n",
    "gpu=True\n",
    "seed=0\n",
    "\n",
    "device = torch.device(\"cuda\" if torch.cuda.is_available() else \"cpu\")\n",
    "if gpu and torch.cuda.is_available():\n",
    "    torch.cuda.manual_seed_all(seed)\n",
    "else:\n",
    "    torch.manual_seed(seed)\n",
    "    device = \"cpu\"\n",
    "    if gpu:\n",
    "        gpu = False\n",
    "\n",
    "torch.set_num_threads(os.cpu_count() - 1)\n",
    "print(\"Running on Device = \", device)\n",
    "\n",
    "# Determines number of workers to use\n",
    "if n_workers == -1:\n",
    "    n_workers = 0\n",
    "\n",
    "n_sqrt = int(np.ceil(np.sqrt(dim)))\n",
    "start_intensity = intensity\n",
    "\n",
    "train_dataset = MNIST(\n",
    "    PoissonEncoder(time=time, dt=dt),\n",
    "    None,\n",
    "    root=os.path.join(\"..\", \"..\", \"data\", \"MNIST\"),\n",
    "    download=True,\n",
    "    train=True,\n",
    "    transform=transforms.Compose(\n",
    "        [transforms.ToTensor(), transforms.Lambda(lambda x: x * intensity)]\n",
    "    ),\n",
    ")\n",
    "\n",
    "spike_record = torch.zeros((update_interval, int(time / dt), dim), device=device)\n"
   ]
  },
  {
   "cell_type": "code",
   "execution_count": 9,
   "id": "a4808718",
   "metadata": {},
   "outputs": [],
   "source": [
    "dendrites = Input(n=dim, traces=True)\n",
    "image_input = Input(n=28*28, shape=(1,28,28), traces=True)\n",
    "layer = LIFNodes(n=dim, traces=True)\n",
    "layer2 = LIFNodes(n=dim, traces=True)\n",
    "\n",
    "network.add_layer(\n",
    "    layer=layer, name=\"layer 1\")\n",
    "network.add_layer(\n",
    "    layer=layer2, name=\"layer 2\")\n",
    "network.add_layer(\n",
    "    layer=dendrites, name=\"dendrites\")\n",
    "network.add_layer(\n",
    "    layer=image_input, name='simulated input')\n",
    "\n",
    "dendrite_first_connection = Connection(\n",
    "    source=dendrites, target=layer, w= 2+torch.randn(dendrites.n, layer.n) )\n",
    "\n",
    "dropout = torch.bernoulli(0.25*torch.ones(layer.n, layer2.n))\n",
    "first_second_connection = Connection(\n",
    "    source=layer, target=layer2, w= dropout*(2+torch.randn(layer.n, layer2.n))/4 )\n",
    "\n",
    "dropout = torch.bernoulli(0.25*torch.ones(layer2.n, layer.n))\n",
    "recurrent_connection = Connection(\n",
    "    source=layer2, target=layer, w= -dropout*(2+torch.randn(layer.n, layer2.n))/4 )\n",
    "\n",
    "w = 0.3 * torch.rand(28*28, dim)\n",
    "input_exc_conn = Connection(\n",
    "                source=image_input,\n",
    "                target=layer,\n",
    "                w=w,\n",
    "                update_rule=PostPre,\n",
    "                nu=(1e-4, 1e-2),\n",
    "                wmin=w_min,\n",
    "                wmax=w_max,\n",
    "                norm=78.4)\n",
    "\n",
    "network.add_connection(dendrite_first_connection, 'dendrites', 'layer 1')\n",
    "network.add_connection(first_second_connection, \"layer 1\", \"layer 2\")\n",
    "network.add_connection(recurrent_connection, \"layer 2\", 'layer 1')\n",
    "network.add_connection(input_exc_conn, 'simulated input', 'layer 1')"
   ]
  },
  {
   "cell_type": "code",
   "execution_count": 10,
   "id": "6b50bc00",
   "metadata": {},
   "outputs": [],
   "source": [
    "spikes = {}\n",
    "for layer in set(network.layers):\n",
    "    spikes[layer] = Monitor(\n",
    "        network.layers[layer], state_vars=[\"s\"], time=int(time / dt), device=device\n",
    "    )\n",
    "    network.add_monitor(spikes[layer], name=f\"{layer} spikes\")\n",
    "\n",
    "voltages = {}\n",
    "for layer in set(network.layers) - {\"simulated input\", \"dendrites\"}:\n",
    "    voltages[layer] = Monitor(\n",
    "        network.layers[layer], state_vars=[\"v\"], time=int(time / dt), device=device\n",
    "    )\n",
    "    network.add_monitor(voltages[layer], name=f\"{layer} voltages\")"
   ]
  },
  {
   "cell_type": "code",
   "execution_count": 11,
   "id": "9977d9ef",
   "metadata": {
    "scrolled": false
   },
   "outputs": [],
   "source": [
    "redo=False\n",
    "if redo:\n",
    "    network.reset_state_variables()\n",
    "    x = {}\n",
    "    spikes_records = {}\n",
    "    for layer in network.layers:\n",
    "        x[layer] = []\n",
    "        spikes_records[layer] = []\n",
    "    for iii in tqdm(range(100)):\n",
    "        input_data = torch.zeros(shape)\n",
    "        input_data[4][9] = iii/100\n",
    "        input_data = input_data.reshape(dim)\n",
    "        input_data = input_data.expand(time, dim)\n",
    "        input_data = torch.bernoulli(input_data).byte()\n",
    "        inpt = {'dendrites': input_data}\n",
    "\n",
    "        network.run(inputs=inpt, time=time)\n",
    "\n",
    "        spikes_ = {\"dendrites\": network.monitors[\"dendrites spikes\"].get(\"s\"),\n",
    "                  \"layer 1\": network.monitors[\"layer 1 spikes\"].get(\"s\"),\n",
    "                  \"layer 2\": network.monitors[\"layer 2 spikes\"].get(\"s\"),\n",
    "                 }\n",
    "        \n",
    "        for layer in set(network.layers)-{\"simulated input\"}:\n",
    "            x[layer].append(float(input_data.sum()/500))\n",
    "            spikes_records[layer].append(float(spikes_[layer].sum())/500)\n",
    "        network.reset_state_variables()\n",
    "        plt.ioff()\n",
    "        #plot_spikes(spikes)\n",
    "    redo=False\n",
    "    plt.show()"
   ]
  },
  {
   "cell_type": "code",
   "execution_count": 12,
   "id": "9f17c16e",
   "metadata": {
    "scrolled": false
   },
   "outputs": [
    {
     "data": {
      "image/png": "[encoded data removed]",
      "text/plain": [
       "<Figure size 640x480 with 3 Axes>"
      ]
     },
     "metadata": {},
     "output_type": "display_data"
    }
   ],
   "source": [
    "to_plot = set(network.connections)-{('simulated input', 'layer 1')}\n",
    "_, axs = plt.subplots(1, len(to_plot))\n",
    "for jjj, connection in enumerate(to_plot):\n",
    "    out = [item for item in network.connections[connection].w.numpy().flatten()\n",
    "          if item != 0]\n",
    "    lim = max(max(out), -min(out))\n",
    "    axs[jjj].hist(out, bins=50)\n",
    "    axs[jjj].set_title(f\"{connection[0]}->{connection[1]}\")\n",
    "    axs[jjj].set_xlim([-lim,lim])\n",
    "plt.show()"
   ]
  },
  {
   "cell_type": "code",
   "execution_count": 6,
   "id": "e7805ee3",
   "metadata": {
    "scrolled": true
   },
   "outputs": [
    {
     "ename": "NameError",
     "evalue": "name 'x' is not defined",
     "output_type": "error",
     "traceback": [
      "\u001b[0;31m---------------------------------------------------------------------------\u001b[0m",
      "\u001b[0;31mNameError\u001b[0m                                 Traceback (most recent call last)",
      "Cell \u001b[0;32mIn[6], line 4\u001b[0m\n\u001b[1;32m      2\u001b[0m _, axs \u001b[38;5;241m=\u001b[39m plt\u001b[38;5;241m.\u001b[39msubplots(\u001b[38;5;241m1\u001b[39m, \u001b[38;5;28mlen\u001b[39m(to_plot2))\n\u001b[1;32m      3\u001b[0m \u001b[38;5;28;01mfor\u001b[39;00m iii, layer \u001b[38;5;129;01min\u001b[39;00m \u001b[38;5;28menumerate\u001b[39m(to_plot2):\n\u001b[0;32m----> 4\u001b[0m     axs[iii]\u001b[38;5;241m.\u001b[39mscatter(\u001b[43mx\u001b[49m[layer][\u001b[38;5;241m0\u001b[39m:\u001b[38;5;241m10\u001b[39m], spikes_records[layer][\u001b[38;5;241m0\u001b[39m:\u001b[38;5;241m10\u001b[39m])\n\u001b[1;32m      5\u001b[0m     axs[iii]\u001b[38;5;241m.\u001b[39mset_title(layer)\n\u001b[1;32m      7\u001b[0m \u001b[38;5;28mprint\u001b[39m(\u001b[38;5;124m\"\u001b[39m\u001b[38;5;124mDendrites affer to first layer neurons\u001b[39m\u001b[38;5;124m\"\u001b[39m)\n",
      "\u001b[0;31mNameError\u001b[0m: name 'x' is not defined"
     ]
    },
    {
     "data": {
      "image/png": "[encoded data removed]",
      "text/plain": [
       "<Figure size 640x480 with 3 Axes>"
      ]
     },
     "metadata": {},
     "output_type": "display_data"
    }
   ],
   "source": [
    "to_plot2 = set(network.layers)-{'simulated input'}\n",
    "_, axs = plt.subplots(1, len(to_plot2))\n",
    "for iii, layer in enumerate(to_plot2):\n",
    "    axs[iii].scatter(x[layer][0:10], spikes_records[layer][0:10])\n",
    "    axs[iii].set_title(layer)\n",
    "    \n",
    "print(\"Dendrites affer to first layer neurons\")\n",
    "plt.show()"
   ]
  },
  {
   "cell_type": "markdown",
   "id": "e942d8f8",
   "metadata": {},
   "source": [
    "## Train input layer"
   ]
  },
  {
   "cell_type": "code",
   "execution_count": 13,
   "id": "987e4c9b",
   "metadata": {},
   "outputs": [],
   "source": [
    "\n",
    "network.to(device)\n",
    "\n",
    "n_train=1\n",
    "\n",
    "def test():\n",
    "    n_test = 1\n",
    "    test_dataset = MNIST(\n",
    "        PoissonEncoder(time=time, dt=dt),\n",
    "        None,\n",
    "        root=os.path.join(\"..\", \"..\", \"data\", \"MNIST\"),\n",
    "        download=True,\n",
    "        train=False,\n",
    "        transform=transforms.Compose(\n",
    "            [transforms.ToTensor(), transforms.Lambda(lambda x: x * intensity)]\n",
    "        ),\n",
    "    )\n",
    "\n",
    "    # Sequence of accuracy estimates.\n",
    "    accuracy = {\"all\": 0, \"proportion\": 0}\n",
    "    \n",
    "    \n",
    "    spike_record_t = torch.zeros((1, int(time / dt), dim), device=device)\n",
    "    \n",
    "    # Train the network.\n",
    "    print(\"\\nBegin testing\\n\")\n",
    "    network.train(mode=False)\n",
    "    start = t()\n",
    "\n",
    "    pbar = tqdm(total=n_test)\n",
    "    for step, batch in enumerate(test_dataset):\n",
    "        if step >= n_test:\n",
    "            break\n",
    "        # Get next input sample.\n",
    "        inputs = {\"simulated input\": batch[\"encoded_image\"].view(int(time / dt), 1, 1, 28, 28)}\n",
    "        if gpu:\n",
    "            inputs = {k: v.cuda() for k, v in inputs.items()}\n",
    "\n",
    "        # Run the network on the input.\n",
    "        network.run(inputs=inputs, time=time)\n",
    "\n",
    "        # Add to spikes recording.\n",
    "        spike_record_t[0] = spikes[\"layer 2\"].get(\"s\").squeeze()\n",
    "\n",
    "        # Convert the array of labels into a tensor\n",
    "        label_tensor = torch.tensor(batch[\"label\"], device=device)\n",
    "\n",
    "        # Get network predictions.\n",
    "        all_activity_pred = all_activity(\n",
    "            spikes=spike_record_t, assignments=assignments, n_labels=n_classes\n",
    "        )\n",
    "        proportion_pred = proportion_weighting(\n",
    "            spikes=spike_record_t,\n",
    "            assignments=assignments,\n",
    "            proportions=proportions,\n",
    "            n_labels=n_classes,\n",
    "        )\n",
    "\n",
    "        # Compute network accuracy according to available classification strategies.\n",
    "        accuracy[\"all\"] += float(torch.sum(label_tensor.long() == all_activity_pred).item())\n",
    "        accuracy[\"proportion\"] += float(\n",
    "            torch.sum(label_tensor.long() == proportion_pred).item()\n",
    "        )\n",
    "\n",
    "        network.reset_state_variables()  # Reset state variables.\n",
    "        pbar.set_description_str(\"Test progress: \")\n",
    "        pbar.update()\n",
    "\n",
    "    return \"\\nAll activity accuracy: %.2f\" % (accuracy[\"all\"] / n_test), \n",
    "    \"Proportion weighting accuracy: %.2f \\n\" % (accuracy[\"proportion\"] / n_test),\n",
    "    \"Progress: %d / %d (%.4f seconds)\" % (epoch + 1, n_epochs, t() - start)\n"
   ]
  },
  {
   "cell_type": "code",
   "execution_count": null,
   "id": "aa39b4e2",
   "metadata": {
    "scrolled": false
   },
   "outputs": [
    {
     "name": "stdout",
     "output_type": "stream",
     "text": [
      "\n",
      "Begin training.\n",
      "\n",
      "Progress: 0 / 10 (0.0037 seconds)\n"
     ]
    },
    {
     "name": "stderr",
     "output_type": "stream",
     "text": [
      "\r",
      "  0%|                                                 | 0/60000 [00:00<?, ?it/s]"
     ]
    },
    {
     "name": "stdout",
     "output_type": "stream",
     "text": [
      "Saved file 0\n"
     ]
    },
    {
     "name": "stderr",
     "output_type": "stream",
     "text": [
      "  0%|                                    | 100/60000 [05:54<66:23:05,  3.99s/it]"
     ]
    },
    {
     "name": "stdout",
     "output_type": "stream",
     "text": [
      "Saved file 100\n"
     ]
    },
    {
     "name": "stderr",
     "output_type": "stream",
     "text": [
      "  0%|                                    | 200/60000 [12:16<56:15:35,  3.39s/it]"
     ]
    },
    {
     "name": "stdout",
     "output_type": "stream",
     "text": [
      "Saved file 200\n"
     ]
    },
    {
     "name": "stderr",
     "output_type": "stream",
     "text": [
      "  0%|▏                                   | 300/60000 [18:33<62:36:34,  3.78s/it]"
     ]
    },
    {
     "name": "stdout",
     "output_type": "stream",
     "text": [
      "Saved file 300\n"
     ]
    },
    {
     "name": "stderr",
     "output_type": "stream",
     "text": [
      "  1%|▏                                   | 400/60000 [24:40<59:35:51,  3.60s/it]"
     ]
    },
    {
     "name": "stdout",
     "output_type": "stream",
     "text": [
      "Saved file 400\n"
     ]
    },
    {
     "name": "stderr",
     "output_type": "stream",
     "text": [
      "  1%|▎                                   | 500/60000 [30:07<50:01:02,  3.03s/it]"
     ]
    },
    {
     "name": "stdout",
     "output_type": "stream",
     "text": [
      "\n",
      "All activity accuracy: 9.60 (last), 9.60 (average), 9.60 (best)\n",
      "Proportion weighting accuracy: 9.60 (last), 9.60 (average), 9.60 (best)\n",
      "\n",
      "Saved file 500\n"
     ]
    },
    {
     "name": "stderr",
     "output_type": "stream",
     "text": [
      "  1%|▎                                   | 600/60000 [35:51<74:40:47,  4.53s/it]"
     ]
    },
    {
     "name": "stdout",
     "output_type": "stream",
     "text": [
      "Saved file 600\n"
     ]
    },
    {
     "name": "stderr",
     "output_type": "stream",
     "text": [
      "  1%|▍                                   | 646/60000 [38:43<65:46:10,  3.99s/it]"
     ]
    }
   ],
   "source": [
    "exc_voltage_monitor = Monitor(\n",
    "    network.layers[\"layer 1\"], [\"v\"], time=int(time / dt), device=device\n",
    ")\n",
    "inh_voltage_monitor = Monitor(\n",
    "    network.layers[\"layer 2\"], [\"v\"], time=int(time / dt), device=device\n",
    ")\n",
    "network.add_monitor(exc_voltage_monitor, name=\"exc_voltage\")\n",
    "network.add_monitor(inh_voltage_monitor, name=\"inh_voltage\")\n",
    "\n",
    "n_classes = 10\n",
    "assignments = -torch.ones(dim, device=device)\n",
    "proportions = torch.zeros((dim, n_classes), device=device)\n",
    "rates = torch.zeros((dim, n_classes), device=device)\n",
    "accuracy = {\"all\": [], \"proportion\": []}\n",
    "\n",
    "plot=False\n",
    "\n",
    "print(\"\\nBegin training.\\n\")\n",
    "network.to(device)\n",
    "start = t()\n",
    "n_train=4000\n",
    "network.train(mode=True)\n",
    "for epoch in range(n_epochs):\n",
    "    labels = []\n",
    "\n",
    "    if epoch % progress_interval == 0:\n",
    "        print(\"Progress: %d / %d (%.4f seconds)\" % (epoch, n_epochs, t() - start))\n",
    "        start = t()\n",
    "\n",
    "    # Create a dataloader to iterate and batch data\n",
    "    dataloader = torch.utils.data.DataLoader(\n",
    "        train_dataset, batch_size=1, shuffle=True, num_workers=n_workers, pin_memory=gpu\n",
    "    )\n",
    "\n",
    "    for step, batch in enumerate(tqdm(dataloader)):\n",
    "        if step > n_train:\n",
    "            break\n",
    "        # Get next input sample.\n",
    "        inputs = {\"simulated input\": batch[\"encoded_image\"].view(int(time / dt), 1, 1, 28, 28)}\n",
    "        if gpu:\n",
    "            inputs = {k: v.cuda() for k, v in inputs.items()}\n",
    "\n",
    "        if step % update_interval == 0 and step > 0:\n",
    "            # Convert the array of labels into a tensor\n",
    "            label_tensor = torch.tensor(labels, device=device)\n",
    "\n",
    "            # Get network predictions.\n",
    "            all_activity_pred = all_activity(\n",
    "                spikes=spike_record, assignments=assignments, n_labels=n_classes\n",
    "            )\n",
    "            proportion_pred = proportion_weighting(\n",
    "                spikes=spike_record,\n",
    "                assignments=assignments,\n",
    "                proportions=proportions,\n",
    "                n_labels=n_classes,\n",
    "            )\n",
    "\n",
    "            # Compute network accuracy according to available classification strategies.\n",
    "            accuracy[\"all\"].append(\n",
    "                100\n",
    "                * torch.sum(label_tensor.long() == all_activity_pred).item()\n",
    "                / len(label_tensor)\n",
    "            )\n",
    "            accuracy[\"proportion\"].append(\n",
    "                100\n",
    "                * torch.sum(label_tensor.long() == proportion_pred).item()\n",
    "                / len(label_tensor)\n",
    "            )\n",
    "\n",
    "            print(\n",
    "                \"\\nAll activity accuracy: %.2f (last), %.2f (average), %.2f (best)\"\n",
    "                % (\n",
    "                    accuracy[\"all\"][-1],\n",
    "                    np.mean(accuracy[\"all\"]),\n",
    "                    np.max(accuracy[\"all\"]),\n",
    "                )\n",
    "            )\n",
    "            print(\n",
    "                \"Proportion weighting accuracy: %.2f (last), %.2f (average), %.2f\"\n",
    "                \" (best)\\n\"\n",
    "                % (\n",
    "                    accuracy[\"proportion\"][-1],\n",
    "                    np.mean(accuracy[\"proportion\"]),\n",
    "                    np.max(accuracy[\"proportion\"]),\n",
    "                )\n",
    "            )\n",
    "\n",
    "            # Assign labels to excitatory layer neurons.\n",
    "            assignments, proportions, rates = assign_labels(\n",
    "                spikes=spike_record,\n",
    "                labels=label_tensor,\n",
    "                n_labels=n_classes,\n",
    "                rates=rates,\n",
    "            )\n",
    "\n",
    "            labels = []\n",
    "\n",
    "        labels.append(batch[\"label\"])\n",
    "\n",
    "        # Run the network on the input.\n",
    "        network.run(inputs=inputs, time=time)\n",
    "\n",
    "        # Get voltage recording.\n",
    "        exc_voltages = exc_voltage_monitor.get(\"v\")\n",
    "        inh_voltages = inh_voltage_monitor.get(\"v\")\n",
    "\n",
    "        # Add to spikes recording.\n",
    "        spike_record[step % update_interval] = spikes[\"layer 1\"].get(\"s\").squeeze()\n",
    "        spikes_ = {layer: spikes[layer].get(\"s\") for layer in spikes}\n",
    "\n",
    "        # Optionally plot various simulation information.\n",
    "        if plot:\n",
    "            image = batch[\"image\"].view(28, 28)\n",
    "            inpt = inputs[\"simulated input\"].view(time, 784).sum(0).view(28, 28)\n",
    "            input_exc_weights = network.connections[(\"simulated input\", \"layer 1\")].w\n",
    "            square_weights = get_square_weights(\n",
    "                input_exc_weights.view(784, dim), n_sqrt, 28\n",
    "            )\n",
    "            square_assignments = get_square_assignments(assignments, n_sqrt)\n",
    "            spikes_ = {layer: spikes[layer].get(\"s\") for layer in spikes}\n",
    "            voltages = {\"layer 1\": exc_voltages, \"layer 2\": inh_voltages}\n",
    "            inpt_axes, inpt_ims = plot_input(\n",
    "                image, inpt, label=batch[\"label\"], axes=inpt_axes, ims=inpt_ims\n",
    "            )\n",
    "            spike_ims, spike_axes = plot_spikes(spikes_, ims=spike_ims, axes=spike_axes)\n",
    "            weights_im = plot_weights(square_weights, im=weights_im)\n",
    "            assigns_im = plot_assignments(square_assignments, im=assigns_im)\n",
    "            perf_ax = plot_performance(accuracy, x_scale=update_interval, ax=perf_ax)\n",
    "            voltage_ims, voltage_axes = plot_voltages(\n",
    "                voltages, ims=voltage_ims, axes=voltage_axes, plot_type=\"line\"\n",
    "            )\n",
    "\n",
    "\n",
    "        if (step % 100) == 0:\n",
    "            weights = network.connections['simulated input', 'layer 1'].w.cpu().numpy()\n",
    "            print(f\"Saved file {step}\")\n",
    "            np.savetxt(f\"weightsStep{step}Epoch{epoch}.csv\", weights, delimiter=\",\")\n",
    "            layer1spikes = np.array(torch.tensor(spikes_['layer 1'].cpu(), dtype=int).sum(dim=0)).reshape(shape)\n",
    "            np.savetxt(f\"spikesStep{step}Epoch{epoch}.csv\", layer1spikes, delimiter=\",\")\n",
    "\n",
    "            plt.pause(1e-8)\n",
    "\n",
    "        network.reset_state_variables()  # Reset state variables."
   ]
  },
  {
   "cell_type": "code",
   "execution_count": 12,
   "id": "7a0c2755",
   "metadata": {},
   "outputs": [],
   "source": [
    "print(\"done\")"
   ]
  },
  {
   "cell_type": "code",
   "execution_count": 15,
   "id": "1fbbd0ef",
   "metadata": {},
   "outputs": [
    {
     "name": "stderr",
     "output_type": "stream",
     "text": [
      "  2%|▊                                          | 2/100 [00:11<09:04,  5.56s/it]\n"
     ]
    },
    {
     "ename": "KeyboardInterrupt",
     "evalue": "",
     "output_type": "error",
     "traceback": [
      "\u001b[0;31m---------------------------------------------------------------------------\u001b[0m",
      "\u001b[0;31mKeyboardInterrupt\u001b[0m                         Traceback (most recent call last)",
      "Cell \u001b[0;32mIn[15], line 31\u001b[0m\n\u001b[1;32m     28\u001b[0m network\u001b[38;5;241m.\u001b[39mreset_state_variables()\n\u001b[1;32m     30\u001b[0m inpt \u001b[38;5;241m=\u001b[39m {\u001b[38;5;124m\"\u001b[39m\u001b[38;5;124msimulated input\u001b[39m\u001b[38;5;124m\"\u001b[39m: \u001b[38;5;28mnext\u001b[39m(\u001b[38;5;28miter\u001b[39m(train_dataset))[\u001b[38;5;124m\"\u001b[39m\u001b[38;5;124mencoded_image\u001b[39m\u001b[38;5;124m\"\u001b[39m]\u001b[38;5;241m.\u001b[39mview(\u001b[38;5;28mint\u001b[39m(time \u001b[38;5;241m/\u001b[39m dt), \u001b[38;5;241m1\u001b[39m, \u001b[38;5;241m1\u001b[39m, \u001b[38;5;241m28\u001b[39m, \u001b[38;5;241m28\u001b[39m)}\n\u001b[0;32m---> 31\u001b[0m \u001b[43mnetwork\u001b[49m\u001b[38;5;241;43m.\u001b[39;49m\u001b[43mrun\u001b[49m\u001b[43m(\u001b[49m\u001b[43minputs\u001b[49m\u001b[38;5;241;43m=\u001b[39;49m\u001b[43minpt\u001b[49m\u001b[43m,\u001b[49m\u001b[43m \u001b[49m\u001b[43mtime\u001b[49m\u001b[38;5;241;43m=\u001b[39;49m\u001b[43mtime\u001b[49m\u001b[43m)\u001b[49m\n\u001b[1;32m     33\u001b[0m spikes_2 \u001b[38;5;241m=\u001b[39m {\u001b[38;5;124m\"\u001b[39m\u001b[38;5;124mdendrites\u001b[39m\u001b[38;5;124m\"\u001b[39m: network\u001b[38;5;241m.\u001b[39mmonitors[\u001b[38;5;124m\"\u001b[39m\u001b[38;5;124mdendrites spikes\u001b[39m\u001b[38;5;124m\"\u001b[39m]\u001b[38;5;241m.\u001b[39mget(\u001b[38;5;124m\"\u001b[39m\u001b[38;5;124ms\u001b[39m\u001b[38;5;124m\"\u001b[39m),\n\u001b[1;32m     34\u001b[0m           \u001b[38;5;124m\"\u001b[39m\u001b[38;5;124mlayer 1\u001b[39m\u001b[38;5;124m\"\u001b[39m: network\u001b[38;5;241m.\u001b[39mmonitors[\u001b[38;5;124m\"\u001b[39m\u001b[38;5;124mlayer 1 spikes\u001b[39m\u001b[38;5;124m\"\u001b[39m]\u001b[38;5;241m.\u001b[39mget(\u001b[38;5;124m\"\u001b[39m\u001b[38;5;124ms\u001b[39m\u001b[38;5;124m\"\u001b[39m),\n\u001b[1;32m     35\u001b[0m           \u001b[38;5;124m\"\u001b[39m\u001b[38;5;124mlayer 2\u001b[39m\u001b[38;5;124m\"\u001b[39m: network\u001b[38;5;241m.\u001b[39mmonitors[\u001b[38;5;124m\"\u001b[39m\u001b[38;5;124mlayer 2 spikes\u001b[39m\u001b[38;5;124m\"\u001b[39m]\u001b[38;5;241m.\u001b[39mget(\u001b[38;5;124m\"\u001b[39m\u001b[38;5;124ms\u001b[39m\u001b[38;5;124m\"\u001b[39m),\n\u001b[1;32m     36\u001b[0m          }\n\u001b[1;32m     38\u001b[0m \u001b[38;5;28;01mfor\u001b[39;00m layer \u001b[38;5;129;01min\u001b[39;00m \u001b[38;5;28mset\u001b[39m(network\u001b[38;5;241m.\u001b[39mlayers)\u001b[38;5;241m-\u001b[39m{\u001b[38;5;124m\"\u001b[39m\u001b[38;5;124msimulated input\u001b[39m\u001b[38;5;124m\"\u001b[39m}:\n",
      "File \u001b[0;32m~/git/bindsnet/bindsnet/network/network.py:360\u001b[0m, in \u001b[0;36mNetwork.run\u001b[0;34m(self, inputs, time, one_step, **kwargs)\u001b[0m\n\u001b[1;32m    358\u001b[0m current_inputs \u001b[38;5;241m=\u001b[39m {}\n\u001b[1;32m    359\u001b[0m \u001b[38;5;28;01mif\u001b[39;00m \u001b[38;5;129;01mnot\u001b[39;00m one_step:\n\u001b[0;32m--> 360\u001b[0m     current_inputs\u001b[38;5;241m.\u001b[39mupdate(\u001b[38;5;28;43mself\u001b[39;49m\u001b[38;5;241;43m.\u001b[39;49m\u001b[43m_get_inputs\u001b[49m\u001b[43m(\u001b[49m\u001b[43m)\u001b[49m)\n\u001b[1;32m    362\u001b[0m \u001b[38;5;28;01mfor\u001b[39;00m l \u001b[38;5;129;01min\u001b[39;00m \u001b[38;5;28mself\u001b[39m\u001b[38;5;241m.\u001b[39mlayers:\n\u001b[1;32m    363\u001b[0m     \u001b[38;5;66;03m# Update each layer of nodes.\u001b[39;00m\n\u001b[1;32m    364\u001b[0m     \u001b[38;5;28;01mif\u001b[39;00m l \u001b[38;5;129;01min\u001b[39;00m inputs:\n",
      "File \u001b[0;32m~/git/bindsnet/bindsnet/network/network.py:245\u001b[0m, in \u001b[0;36mNetwork._get_inputs\u001b[0;34m(self, layers)\u001b[0m\n\u001b[1;32m    243\u001b[0m             inputs[c[\u001b[38;5;241m1\u001b[39m]] \u001b[38;5;241m+\u001b[39m\u001b[38;5;241m=\u001b[39m \u001b[38;5;28mself\u001b[39m\u001b[38;5;241m.\u001b[39mconnections[c]\u001b[38;5;241m.\u001b[39mcompute_window(source\u001b[38;5;241m.\u001b[39ms)\n\u001b[1;32m    244\u001b[0m         \u001b[38;5;28;01melse\u001b[39;00m:\n\u001b[0;32m--> 245\u001b[0m             inputs[c[\u001b[38;5;241m1\u001b[39m]] \u001b[38;5;241m+\u001b[39m\u001b[38;5;241m=\u001b[39m \u001b[38;5;28;43mself\u001b[39;49m\u001b[38;5;241;43m.\u001b[39;49m\u001b[43mconnections\u001b[49m\u001b[43m[\u001b[49m\u001b[43mc\u001b[49m\u001b[43m]\u001b[49m\u001b[38;5;241;43m.\u001b[39;49m\u001b[43mcompute\u001b[49m\u001b[43m(\u001b[49m\u001b[43msource\u001b[49m\u001b[38;5;241;43m.\u001b[39;49m\u001b[43ms\u001b[49m\u001b[43m)\u001b[49m\n\u001b[1;32m    247\u001b[0m \u001b[38;5;28;01mreturn\u001b[39;00m inputs\n",
      "File \u001b[0;32m~/git/bindsnet/bindsnet/network/topology.py:205\u001b[0m, in \u001b[0;36mConnection.compute\u001b[0;34m(self, s)\u001b[0m\n\u001b[1;32m    203\u001b[0m \u001b[38;5;28;01melse\u001b[39;00m:\n\u001b[1;32m    204\u001b[0m     post \u001b[38;5;241m=\u001b[39m s\u001b[38;5;241m.\u001b[39mview(s\u001b[38;5;241m.\u001b[39msize(\u001b[38;5;241m0\u001b[39m), \u001b[38;5;241m-\u001b[39m\u001b[38;5;241m1\u001b[39m)\u001b[38;5;241m.\u001b[39mfloat() \u001b[38;5;241m@\u001b[39m \u001b[38;5;28mself\u001b[39m\u001b[38;5;241m.\u001b[39mw \u001b[38;5;241m+\u001b[39m \u001b[38;5;28mself\u001b[39m\u001b[38;5;241m.\u001b[39mb\n\u001b[0;32m--> 205\u001b[0m \u001b[38;5;28;01mreturn\u001b[39;00m post\u001b[38;5;241m.\u001b[39mview(\u001b[43ms\u001b[49m\u001b[38;5;241;43m.\u001b[39;49m\u001b[43msize\u001b[49m\u001b[43m(\u001b[49m\u001b[38;5;241;43m0\u001b[39;49m\u001b[43m)\u001b[49m, \u001b[38;5;241m-\u001b[39m\u001b[38;5;241m1\u001b[39m)\n",
      "\u001b[0;31mKeyboardInterrupt\u001b[0m: "
     ]
    }
   ],
   "source": [
    "redo =True\n",
    "network.train(mode=False)\n",
    "network.to('cpu')\n",
    "if redo:\n",
    "    network.reset_state_variables()\n",
    "    x = {}\n",
    "    spikes_records = {}\n",
    "    spikes_records2 = {}\n",
    "    for layer in network.layers:\n",
    "        x[layer] = []\n",
    "        spikes_records[layer] = []\n",
    "        spikes_records2[layer] = []\n",
    "        \n",
    "    for iii in tqdm(range(100)):\n",
    "        input_data = torch.zeros(shape)\n",
    "        input_data[4][9] = iii/100\n",
    "        input_data = input_data.reshape(dim)\n",
    "        input_data = input_data.expand(time, dim)\n",
    "        input_data = torch.bernoulli(input_data).byte()\n",
    "        inpt = {'dendrites': input_data,\n",
    "                \"simulated input\": next(iter(train_dataset))[\"encoded_image\"].view(int(time / dt), 1, 1, 28, 28)}\n",
    "        network.run(inputs=inpt, time=time)\n",
    "\n",
    "        spikes_ = {\"dendrites\": network.monitors[\"dendrites spikes\"].get(\"s\"),\n",
    "                  \"layer 1\": network.monitors[\"layer 1 spikes\"].get(\"s\"),\n",
    "                  \"layer 2\": network.monitors[\"layer 2 spikes\"].get(\"s\"),\n",
    "                 }\n",
    "        network.reset_state_variables()\n",
    "        \n",
    "        inpt = {\"simulated input\": next(iter(train_dataset))[\"encoded_image\"].view(int(time / dt), 1, 1, 28, 28)}\n",
    "        network.run(inputs=inpt, time=time)\n",
    "\n",
    "        spikes_2 = {\"dendrites\": network.monitors[\"dendrites spikes\"].get(\"s\"),\n",
    "                  \"layer 1\": network.monitors[\"layer 1 spikes\"].get(\"s\"),\n",
    "                  \"layer 2\": network.monitors[\"layer 2 spikes\"].get(\"s\"),\n",
    "                 }\n",
    "        \n",
    "        for layer in set(network.layers)-{\"simulated input\"}:\n",
    "            x[layer].append(float(input_data.sum()/500))\n",
    "            spikes_records[layer].append(float(spikes_[layer].sum())/500)\n",
    "            spikes_records2[layer].append(float(spikes_2[layer].sum())/500)\n",
    "        network.reset_state_variables()\n",
    "        plt.ioff()\n",
    "        #plot_spikes(spikes)\n",
    "    redo=False\n",
    "    plt.show()"
   ]
  },
  {
   "cell_type": "code",
   "execution_count": 32,
   "id": "d40124c2",
   "metadata": {
    "scrolled": true
   },
   "outputs": [
    {
     "name": "stdout",
     "output_type": "stream",
     "text": [
      "Dendrites affer to first layer neurons\n"
     ]
    },
    {
     "data": {
      "image/png": "[encoded data removed]",
      "text/plain": [
       "<Figure size 640x480 with 3 Axes>"
      ]
     },
     "metadata": {},
     "output_type": "display_data"
    },
    {
     "data": {
      "image/png": "[encoded data removed]",
      "text/plain": [
       "<Figure size 640x480 with 3 Axes>"
      ]
     },
     "metadata": {},
     "output_type": "display_data"
    }
   ],
   "source": [
    "\n",
    "to_plot2 = set(network.layers)-{'simulated input'}\n",
    "_, axs = plt.subplots(1, len(to_plot2))\n",
    "axes_limits = []\n",
    "for iii, layer in enumerate(to_plot2):\n",
    "    axs[iii].scatter(x[layer][0:10], spikes_records[layer][0:10])\n",
    "    axs[iii].set_title(layer)\n",
    "    #axes_limits.append(axs[iii].get_ylim())\n",
    "    \n",
    "_, axs2 = plt.subplots(1, len(to_plot2))\n",
    "for iii, layer in enumerate(to_plot2):\n",
    "    axs2[iii].scatter(x[layer][0:10], np.subtract(spikes_records[layer][0:10],spikes_records2[layer][0:10]))\n",
    "    axs2[iii].set_title(layer)\n",
    "    #axs2[iii].set_ylim = axes_limits[iii]\n",
    "    \n",
    "print(\"Dendrites affer to first layer neurons\")\n",
    "plt.show()"
   ]
  },
  {
   "cell_type": "code",
   "execution_count": 67,
   "id": "9a221e3f",
   "metadata": {},
   "outputs": [
    {
     "data": {
      "image/png": "[encoded data removed]",
      "text/plain": [
       "<Figure size 640x480 with 2 Axes>"
      ]
     },
     "metadata": {},
     "output_type": "display_data"
    },
    {
     "name": "stdout",
     "output_type": "stream",
     "text": [
      "First iteration sum of STDP-adjusted connections: input->first layer and first layer->input\n"
     ]
    }
   ],
   "source": [
    "import csv\n",
    "import numpy as np\n",
    "weights = []\n",
    "iteration_to_plot = 'weightsStep0Epoch0'\n",
    "_, axs = plt.subplots(1, 2)\n",
    "with open(f'{iteration_to_plot}.csv','r') as csvfile:\n",
    "    plots = csv.reader(csvfile, delimiter = ',')\n",
    "    for row in plots:\n",
    "        weights.append(row)\n",
    "\n",
    "neurons = np.zeros(len(weights[0]))\n",
    "\n",
    "for img_neuron in weights:\n",
    "    for iii, connection in enumerate(img_neuron):\n",
    "        neurons[iii] = neurons[iii]+float(connection)\n",
    "neurons = neurons.reshape(10, 10)\n",
    "axs[1].imshow(neurons)\n",
    "\n",
    "neurons = np.zeros(len(weights))\n",
    "for iii, img_neuron in enumerate(weights):\n",
    "    for weight in img_neuron:\n",
    "        neurons[iii] = neurons[iii]+float(weight)\n",
    "neurons = neurons.reshape(28,28)\n",
    "axs[0].imshow(neurons)\n",
    "plt.show()\n",
    "print(\"First iteration sum of STDP-adjusted connections: input->first layer and first layer->input\")"
   ]
  },
  {
   "cell_type": "code",
   "execution_count": 69,
   "id": "90187e01",
   "metadata": {
    "scrolled": false
   },
   "outputs": [
    {
     "data": {
      "image/png": "[encoded data removed]",
      "text/plain": [
       "<Figure size 640x480 with 2 Axes>"
      ]
     },
     "metadata": {},
     "output_type": "display_data"
    },
    {
     "name": "stdout",
     "output_type": "stream",
     "text": [
      "100th iteration sum of STDP-adjusted connections: input->first layer and first layer->input\n"
     ]
    }
   ],
   "source": [
    "weights = []\n",
    "iteration_to_plot = 'weightsStep100Epoch0'\n",
    "_, axs = plt.subplots(1, 2)\n",
    "with open(f'{iteration_to_plot}.csv','r') as csvfile:\n",
    "    plots = csv.reader(csvfile, delimiter = ',')\n",
    "    for row in plots:\n",
    "        weights.append(row)\n",
    "\n",
    "neurons = np.zeros(len(weights[0]))\n",
    "\n",
    "for img_neuron in weights:\n",
    "    for iii, connection in enumerate(img_neuron):\n",
    "        neurons[iii] = neurons[iii]+float(connection)\n",
    "neurons = neurons.reshape(10, 10)\n",
    "axs[1].imshow(neurons)\n",
    "\n",
    "neurons = np.zeros(len(weights))\n",
    "for iii, img_neuron in enumerate(weights):\n",
    "    for weight in img_neuron:\n",
    "        neurons[iii] = neurons[iii]+float(weight)\n",
    "neurons = neurons.reshape(28,28)\n",
    "axs[0].imshow(neurons)\n",
    "plt.show()\n",
    "print(\"100th iteration sum of STDP-adjusted connections: input->first layer and first layer->input\")"
   ]
  },
  {
   "cell_type": "code",
   "execution_count": null,
   "id": "b7acd4cc",
   "metadata": {},
   "outputs": [],
   "source": []
  }
 ],
 "metadata": {
  "kernelspec": {
   "display_name": "Python 3 (ipykernel)",
   "language": "python",
   "name": "python3"
  },
  "language_info": {
   "codemirror_mode": {
    "name": "ipython",
    "version": 3
   },
   "file_extension": ".py",
   "mimetype": "text/x-python",
   "name": "python",
   "nbconvert_exporter": "python",
   "pygments_lexer": "ipython3",
   "version": "3.10.6"
  }
 },
 "nbformat": 4,
 "nbformat_minor": 5
}
